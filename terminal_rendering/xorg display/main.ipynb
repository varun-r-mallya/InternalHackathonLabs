{
 "cells": [
  {
   "cell_type": "code",
   "execution_count": 8,
   "metadata": {},
   "outputs": [
    {
     "name": "stdout",
     "output_type": "stream",
     "text": [
      "working\n"
     ]
    }
   ],
   "source": [
    "import cv2\n",
    "from Xlib import X, display\n",
    "import numpy as np\n",
    "import colorama\n",
    "from colorama import Back, Style\n",
    "import os\n",
    "from easyprocess import EasyProcess\n",
    "from IPython.display import display\n",
    "from pyvirtualdisplay.smartdisplay import SmartDisplay\n",
    "from pyvirtualdisplay import Display\n",
    "\n",
    "colorama.init()\n",
    "\n",
    "with Display(visible=False, size=(100, 60)) as disp:\n",
    "    with EasyProcess([\"firefox\"]) as proc:\n",
    "        print(\"working\")\n",
    "        proc.wait()\n",
    "    disp.\n",
    "# def capture_window(terminal_width, terminal_height):\n",
    "#     root = display.Display().screen().root\n",
    "#     raw = root.get_image(X.ZPixmap, 0, 0, terminal_width, terminal_height, X.AllPlanes, 32)\n",
    "#     return np.frombuffer(raw.data, dtype='uint8').reshape((600, 800, 4))\n",
    "\n",
    "\n",
    "# def convert_to_ansi(image):\n",
    "#     height, width, _ = image.shape\n",
    "#     ansi_frame = \"\"\n",
    "#     for y in range(height):\n",
    "#         for x in range(width):\n",
    "#             b, g, r = image[y, x]  \n",
    "#             ansi_code = f\"\\033[48;2;{r};{g};{b}m \"  \n",
    "#             ansi_frame += ansi_code\n",
    "#         ansi_frame += \"\\n\"\n",
    "#     return ansi_frame\n",
    "\n",
    "# def display_video():\n",
    "#     cap = cv2.VideoCapture(0)  \n",
    "#     terminal_width = os.get_terminal_size().columns\n",
    "#     terminal_height = os.get_terminal_size().lines\n",
    "#     while True:\n",
    "#         ret, frame = cap.read()\n",
    "#         if not ret:\n",
    "#             break\n",
    "#         scaled_frame = cv2.resize(frame, (terminal_width, terminal_height), interpolation=cv2.INTER_NEAREST)\n",
    "#         scaled_frame = capture_window(terminal_width, terminal_height)\n",
    "#         ansi_frame = convert_to_ansi(scaled_frame)\n",
    "#         print(ansi_frame, end=\"\")\n",
    "\n",
    "#         if cv2.waitKey(1) & 0xFF == ord('q'):\n",
    "#             break\n",
    "\n",
    "#     cap.release()\n",
    "#     cv2.destroyAllWindows()\n",
    "\n",
    "# if __name__ == \"__main__\":\n",
    "#     display_video()"
   ]
  }
 ],
 "metadata": {
  "kernelspec": {
   "display_name": ".venv",
   "language": "python",
   "name": "python3"
  },
  "language_info": {
   "codemirror_mode": {
    "name": "ipython",
    "version": 3
   },
   "file_extension": ".py",
   "mimetype": "text/x-python",
   "name": "python",
   "nbconvert_exporter": "python",
   "pygments_lexer": "ipython3",
   "version": "3.10.12"
  }
 },
 "nbformat": 4,
 "nbformat_minor": 2
}
